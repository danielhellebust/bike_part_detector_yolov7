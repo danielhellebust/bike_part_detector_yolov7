{
 "cells": [
  {
   "cell_type": "markdown",
   "source": [
    "## Train your model\n",
    "\n",
    "It is recommended to use gpu for training. Set up virtual environment with cuda, and gpu are used by default. Otherwise, it use cpu.\n",
    "\n",
    "Run below command in terminal, adjust epochs and batch size per preference, bike-part detector was made with batch size 2 and epoch 100\n",
    "\n",
    "* data.yaml file points to training and test data.\n",
    "* weights: yolov7.pt and yolov7x is the pre-trained models to be finetuned.\n",
    "* Results and custom model weights are stored in 'yolov7/runs/res_dir\n",
    "\n",
    "python train.py --data ../data.yaml --weights yolov7.pt  --img 640 --epochs 1 --batch-size 2 --name ../RES_DIR"
   ],
   "metadata": {
    "collapsed": false
   }
  },
  {
   "cell_type": "code",
   "execution_count": null,
   "outputs": [],
   "source": [],
   "metadata": {
    "collapsed": false,
    "pycharm": {
     "is_executing": true
    }
   }
  }
 ],
 "metadata": {
  "kernelspec": {
   "display_name": "Python 3",
   "language": "python",
   "name": "python3"
  },
  "language_info": {
   "codemirror_mode": {
    "name": "ipython",
    "version": 2
   },
   "file_extension": ".py",
   "mimetype": "text/x-python",
   "name": "python",
   "nbconvert_exporter": "python",
   "pygments_lexer": "ipython2",
   "version": "2.7.6"
  }
 },
 "nbformat": 4,
 "nbformat_minor": 0
}
