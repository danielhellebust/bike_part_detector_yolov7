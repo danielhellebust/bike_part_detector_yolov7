{
 "cells": [
  {
   "cell_type": "markdown",
   "source": [
    "# import dependencies"
   ],
   "metadata": {
    "collapsed": false
   }
  },
  {
   "cell_type": "code",
   "execution_count": 5,
   "metadata": {
    "collapsed": true
   },
   "outputs": [],
   "source": [
    "from yolov7 import create_custom_model as custom\n",
    "from yolov7.utils.plots import plot_one_box\n",
    "import random\n",
    "import cv2"
   ]
  },
  {
   "cell_type": "markdown",
   "source": [
    "## Load model\n",
    "Download the different pre-trained weights from here:\n",
    "* yolov7 without data augmentation: https://github.com/danielhellebust/bike_part_detector_yolov7/releases/download/bike_part_detector/bike_part_yolov7_no_augmentation.pt\n",
    "* yolov7 with data augmentation: https://github.com/danielhellebust/bike_part_detector_yolov7/releases/download/bike_part_detector/bike_part_yolov7_with_augmentation.pt\n",
    "* yolov7X without data augmentation: https://github.com/danielhellebust/bike_part_detector_yolov7/releases/download/bike_part_detector/bike_part_yolov7X_no_augmentation.pt\n",
    "* yolov7X with data augmentation: https://github.com/danielhellebust/bike_part_detector_yolov7/releases/download/bike_part_detector/bike_part_yolov7X_with_augmentation.pt                                                                                                                                                                                                                                                                               Save pre-trained weights to the folder \"custom_weights\" and create your model below"
   ],
   "metadata": {
    "collapsed": false
   }
  },
  {
   "cell_type": "code",
   "execution_count": 6,
   "outputs": [
    {
     "name": "stderr",
     "output_type": "stream",
     "text": [
      "\n",
      "                 from  n    params  module                                  arguments                     \n",
      "  0                -1  1      1160  yolov7.models.common.Conv               [3, 40, 3, 1]                 \n",
      "  1                -1  1     28960  yolov7.models.common.Conv               [40, 80, 3, 2]                \n",
      "  2                -1  1     57760  yolov7.models.common.Conv               [80, 80, 3, 1]                \n",
      "  3                -1  1    115520  yolov7.models.common.Conv               [80, 160, 3, 2]               \n",
      "  4                -1  1     10368  yolov7.models.common.Conv               [160, 64, 1, 1]               \n",
      "  5                -2  1     10368  yolov7.models.common.Conv               [160, 64, 1, 1]               \n",
      "  6                -1  1     36992  yolov7.models.common.Conv               [64, 64, 3, 1]                \n",
      "  7                -1  1     36992  yolov7.models.common.Conv               [64, 64, 3, 1]                \n",
      "  8                -1  1     36992  yolov7.models.common.Conv               [64, 64, 3, 1]                \n",
      "  9                -1  1     36992  yolov7.models.common.Conv               [64, 64, 3, 1]                \n",
      " 10                -1  1     36992  yolov7.models.common.Conv               [64, 64, 3, 1]                \n",
      " 11                -1  1     36992  yolov7.models.common.Conv               [64, 64, 3, 1]                \n",
      " 12[-1, -3, -5, -7, -8]  1         0  yolov7.models.common.Concat             [1]                           \n",
      " 13                -1  1    103040  yolov7.models.common.Conv               [320, 320, 1, 1]              \n",
      " 14                -1  1         0  yolov7.models.common.MP                 []                            \n",
      " 15                -1  1     51520  yolov7.models.common.Conv               [320, 160, 1, 1]              \n",
      " 16                -3  1     51520  yolov7.models.common.Conv               [320, 160, 1, 1]              \n",
      " 17                -1  1    230720  yolov7.models.common.Conv               [160, 160, 3, 2]              \n",
      " 18          [-1, -3]  1         0  yolov7.models.common.Concat             [1]                           \n",
      " 19                -1  1     41216  yolov7.models.common.Conv               [320, 128, 1, 1]              \n",
      " 20                -2  1     41216  yolov7.models.common.Conv               [320, 128, 1, 1]              \n",
      " 21                -1  1    147712  yolov7.models.common.Conv               [128, 128, 3, 1]              \n",
      " 22                -1  1    147712  yolov7.models.common.Conv               [128, 128, 3, 1]              \n",
      " 23                -1  1    147712  yolov7.models.common.Conv               [128, 128, 3, 1]              \n",
      " 24                -1  1    147712  yolov7.models.common.Conv               [128, 128, 3, 1]              \n",
      " 25                -1  1    147712  yolov7.models.common.Conv               [128, 128, 3, 1]              \n",
      " 26                -1  1    147712  yolov7.models.common.Conv               [128, 128, 3, 1]              \n",
      " 27[-1, -3, -5, -7, -8]  1         0  yolov7.models.common.Concat             [1]                           \n",
      " 28                -1  1    410880  yolov7.models.common.Conv               [640, 640, 1, 1]              \n",
      " 29                -1  1         0  yolov7.models.common.MP                 []                            \n",
      " 30                -1  1    205440  yolov7.models.common.Conv               [640, 320, 1, 1]              \n",
      " 31                -3  1    205440  yolov7.models.common.Conv               [640, 320, 1, 1]              \n",
      " 32                -1  1    922240  yolov7.models.common.Conv               [320, 320, 3, 2]              \n",
      " 33          [-1, -3]  1         0  yolov7.models.common.Concat             [1]                           \n",
      " 34                -1  1    164352  yolov7.models.common.Conv               [640, 256, 1, 1]              \n",
      " 35                -2  1    164352  yolov7.models.common.Conv               [640, 256, 1, 1]              \n",
      " 36                -1  1    590336  yolov7.models.common.Conv               [256, 256, 3, 1]              \n",
      " 37                -1  1    590336  yolov7.models.common.Conv               [256, 256, 3, 1]              \n",
      " 38                -1  1    590336  yolov7.models.common.Conv               [256, 256, 3, 1]              \n",
      " 39                -1  1    590336  yolov7.models.common.Conv               [256, 256, 3, 1]              \n",
      " 40                -1  1    590336  yolov7.models.common.Conv               [256, 256, 3, 1]              \n",
      " 41                -1  1    590336  yolov7.models.common.Conv               [256, 256, 3, 1]              \n",
      " 42[-1, -3, -5, -7, -8]  1         0  yolov7.models.common.Concat             [1]                           \n",
      " 43                -1  1   1640960  yolov7.models.common.Conv               [1280, 1280, 1, 1]            \n",
      " 44                -1  1         0  yolov7.models.common.MP                 []                            \n",
      " 45                -1  1    820480  yolov7.models.common.Conv               [1280, 640, 1, 1]             \n",
      " 46                -3  1    820480  yolov7.models.common.Conv               [1280, 640, 1, 1]             \n",
      " 47                -1  1   3687680  yolov7.models.common.Conv               [640, 640, 3, 2]              \n",
      " 48          [-1, -3]  1         0  yolov7.models.common.Concat             [1]                           \n",
      " 49                -1  1    328192  yolov7.models.common.Conv               [1280, 256, 1, 1]             \n",
      " 50                -2  1    328192  yolov7.models.common.Conv               [1280, 256, 1, 1]             \n",
      " 51                -1  1    590336  yolov7.models.common.Conv               [256, 256, 3, 1]              \n",
      " 52                -1  1    590336  yolov7.models.common.Conv               [256, 256, 3, 1]              \n",
      " 53                -1  1    590336  yolov7.models.common.Conv               [256, 256, 3, 1]              \n",
      " 54                -1  1    590336  yolov7.models.common.Conv               [256, 256, 3, 1]              \n",
      " 55                -1  1    590336  yolov7.models.common.Conv               [256, 256, 3, 1]              \n",
      " 56                -1  1    590336  yolov7.models.common.Conv               [256, 256, 3, 1]              \n",
      " 57[-1, -3, -5, -7, -8]  1         0  yolov7.models.common.Concat             [1]                           \n",
      " 58                -1  1   1640960  yolov7.models.common.Conv               [1280, 1280, 1, 1]            \n",
      " 59                -1  1  11887360  yolov7.models.common.SPPCSPC            [1280, 640, 1]                \n",
      " 60                -1  1    205440  yolov7.models.common.Conv               [640, 320, 1, 1]              \n",
      " 61                -1  1         0  torch.nn.modules.upsampling.Upsample    [None, 2, 'nearest']          \n",
      " 62                43  1    410240  yolov7.models.common.Conv               [1280, 320, 1, 1]             \n",
      " 63          [-1, -2]  1         0  yolov7.models.common.Concat             [1]                           \n",
      " 64                -1  1    164352  yolov7.models.common.Conv               [640, 256, 1, 1]              \n",
      " 65                -2  1    164352  yolov7.models.common.Conv               [640, 256, 1, 1]              \n",
      " 66                -1  1    590336  yolov7.models.common.Conv               [256, 256, 3, 1]              \n",
      " 67                -1  1    590336  yolov7.models.common.Conv               [256, 256, 3, 1]              \n",
      " 68                -1  1    590336  yolov7.models.common.Conv               [256, 256, 3, 1]              \n",
      " 69                -1  1    590336  yolov7.models.common.Conv               [256, 256, 3, 1]              \n",
      " 70                -1  1    590336  yolov7.models.common.Conv               [256, 256, 3, 1]              \n",
      " 71                -1  1    590336  yolov7.models.common.Conv               [256, 256, 3, 1]              \n",
      " 72[-1, -3, -5, -7, -8]  1         0  yolov7.models.common.Concat             [1]                           \n",
      " 73                -1  1    410240  yolov7.models.common.Conv               [1280, 320, 1, 1]             \n",
      " 74                -1  1     51520  yolov7.models.common.Conv               [320, 160, 1, 1]              \n",
      " 75                -1  1         0  torch.nn.modules.upsampling.Upsample    [None, 2, 'nearest']          \n",
      " 76                28  1    102720  yolov7.models.common.Conv               [640, 160, 1, 1]              \n",
      " 77          [-1, -2]  1         0  yolov7.models.common.Concat             [1]                           \n",
      " 78                -1  1     41216  yolov7.models.common.Conv               [320, 128, 1, 1]              \n",
      " 79                -2  1     41216  yolov7.models.common.Conv               [320, 128, 1, 1]              \n",
      " 80                -1  1    147712  yolov7.models.common.Conv               [128, 128, 3, 1]              \n",
      " 81                -1  1    147712  yolov7.models.common.Conv               [128, 128, 3, 1]              \n",
      " 82                -1  1    147712  yolov7.models.common.Conv               [128, 128, 3, 1]              \n",
      " 83                -1  1    147712  yolov7.models.common.Conv               [128, 128, 3, 1]              \n",
      " 84                -1  1    147712  yolov7.models.common.Conv               [128, 128, 3, 1]              \n",
      " 85                -1  1    147712  yolov7.models.common.Conv               [128, 128, 3, 1]              \n",
      " 86[-1, -3, -5, -7, -8]  1         0  yolov7.models.common.Concat             [1]                           \n",
      " 87                -1  1    102720  yolov7.models.common.Conv               [640, 160, 1, 1]              \n",
      " 88                -1  1         0  yolov7.models.common.MP                 []                            \n",
      " 89                -1  1     25920  yolov7.models.common.Conv               [160, 160, 1, 1]              \n",
      " 90                -3  1     25920  yolov7.models.common.Conv               [160, 160, 1, 1]              \n",
      " 91                -1  1    230720  yolov7.models.common.Conv               [160, 160, 3, 2]              \n",
      " 92      [-1, -3, 73]  1         0  yolov7.models.common.Concat             [1]                           \n",
      " 93                -1  1    164352  yolov7.models.common.Conv               [640, 256, 1, 1]              \n",
      " 94                -2  1    164352  yolov7.models.common.Conv               [640, 256, 1, 1]              \n",
      " 95                -1  1    590336  yolov7.models.common.Conv               [256, 256, 3, 1]              \n",
      " 96                -1  1    590336  yolov7.models.common.Conv               [256, 256, 3, 1]              \n",
      " 97                -1  1    590336  yolov7.models.common.Conv               [256, 256, 3, 1]              \n",
      " 98                -1  1    590336  yolov7.models.common.Conv               [256, 256, 3, 1]              \n",
      " 99                -1  1    590336  yolov7.models.common.Conv               [256, 256, 3, 1]              \n",
      "100                -1  1    590336  yolov7.models.common.Conv               [256, 256, 3, 1]              \n",
      "101[-1, -3, -5, -7, -8]  1         0  yolov7.models.common.Concat             [1]                           \n",
      "102                -1  1    410240  yolov7.models.common.Conv               [1280, 320, 1, 1]             \n",
      "103                -1  1         0  yolov7.models.common.MP                 []                            \n",
      "104                -1  1    103040  yolov7.models.common.Conv               [320, 320, 1, 1]              \n",
      "105                -3  1    103040  yolov7.models.common.Conv               [320, 320, 1, 1]              \n",
      "106                -1  1    922240  yolov7.models.common.Conv               [320, 320, 3, 2]              \n",
      "107      [-1, -3, 59]  1         0  yolov7.models.common.Concat             [1]                           \n",
      "108                -1  1    656384  yolov7.models.common.Conv               [1280, 512, 1, 1]             \n",
      "109                -2  1    656384  yolov7.models.common.Conv               [1280, 512, 1, 1]             \n",
      "110                -1  1   2360320  yolov7.models.common.Conv               [512, 512, 3, 1]              \n",
      "111                -1  1   2360320  yolov7.models.common.Conv               [512, 512, 3, 1]              \n",
      "112                -1  1   2360320  yolov7.models.common.Conv               [512, 512, 3, 1]              \n",
      "113                -1  1   2360320  yolov7.models.common.Conv               [512, 512, 3, 1]              \n",
      "114                -1  1   2360320  yolov7.models.common.Conv               [512, 512, 3, 1]              \n",
      "115                -1  1   2360320  yolov7.models.common.Conv               [512, 512, 3, 1]              \n",
      "116[-1, -3, -5, -7, -8]  1         0  yolov7.models.common.Concat             [1]                           \n",
      "117                -1  1   1639680  yolov7.models.common.Conv               [2560, 640, 1, 1]             \n",
      "118                87  1    461440  yolov7.models.common.Conv               [160, 320, 3, 1]              \n",
      "119               102  1   1844480  yolov7.models.common.Conv               [320, 640, 3, 1]              \n",
      "120               117  1   7375360  yolov7.models.common.Conv               [640, 1280, 3, 1]             \n",
      "121   [118, 119, 120]  1     96572  models.yolo.IDetect                     [9, [[12, 16, 19, 36, 40, 28], [36, 75, 76, 55, 72, 146], [142, 110, 192, 243, 459, 401]], [320, 640, 1280]]\n",
      "Model Summary: 467 layers, 70868996 parameters, 70868996 gradients, 189.1 GFLOPS\n",
      "\n",
      "YOLOR  bike_part_detector-3-g5c19645 torch 1.13.0+cpu CPU\n",
      "\n"
     ]
    },
    {
     "name": "stdout",
     "output_type": "stream",
     "text": [
      "Adding autoShape... \n"
     ]
    }
   ],
   "source": [
    "custom_weights = '../custom_weights/bike_part_yolov7X_with_augmentation.pt'\n",
    "model = custom.get_custom_model(custom_weights)"
   ],
   "metadata": {
    "collapsed": false
   }
  },
  {
   "cell_type": "markdown",
   "source": [
    "## Load test image"
   ],
   "metadata": {
    "collapsed": false
   }
  },
  {
   "cell_type": "code",
   "execution_count": 7,
   "outputs": [],
   "source": [
    "img = '../images/bike3.jpg'\n",
    "image = cv2.imread(img)\n"
   ],
   "metadata": {
    "collapsed": false
   }
  },
  {
   "cell_type": "markdown",
   "source": [
    "## Pre process input image"
   ],
   "metadata": {
    "collapsed": false
   }
  },
  {
   "cell_type": "code",
   "execution_count": 8,
   "outputs": [],
   "source": [
    "# Resize to fit the object detection model\n",
    "resized_image = cv2.resize(image, (640, 480),interpolation = cv2.INTER_AREA)\n",
    "\n",
    "# Convert to grayscale, since the model is trained on grayscale images\n",
    "img_gray = cv2.cvtColor(resized_image, cv2.COLOR_BGR2GRAY)"
   ],
   "metadata": {
    "collapsed": false
   }
  },
  {
   "cell_type": "markdown",
   "source": [
    "## Get result from your model"
   ],
   "metadata": {
    "collapsed": false
   }
  },
  {
   "cell_type": "code",
   "execution_count": 9,
   "outputs": [],
   "source": [
    "result = model(img_gray, size=640)\n",
    "\n",
    "# Grab results\n",
    "df = result.pandas().xyxy[0]"
   ],
   "metadata": {
    "collapsed": false
   }
  },
  {
   "cell_type": "markdown",
   "source": [
    "## Set confidence level for your model"
   ],
   "metadata": {
    "collapsed": false
   }
  },
  {
   "cell_type": "code",
   "execution_count": 10,
   "outputs": [],
   "source": [
    "# 0.5 as default, lower confidence give more detections, but could also be wrong detections.\n",
    "confidence_threshold = 0.5"
   ],
   "metadata": {
    "collapsed": false
   }
  },
  {
   "cell_type": "code",
   "execution_count": 11,
   "outputs": [],
   "source": [
    "# iterate over all detections and draw boundingbox for those over confidence_threshold\n",
    "for i in df.iterrows():\n",
    "    label = i[1]['name']\n",
    "    conf = i[1]['confidence']\n",
    "    color = [random.randint(0, 255) for _ in range(4)]\n",
    "    if conf > confidence_threshold:\n",
    "        c1, c2 = (int(i[1]['xmin']), int(i[1]['ymin'])), (int(i[1]['xmax']), int(i[1]['ymax']))\n",
    "        plot_one_box(c1 + c2, resized_image, label=f'{label}:{conf:.2f}', color=color, line_thickness=1)\n",
    "        #print(c1, c2)\n",
    "\n",
    "\n",
    "cv2.imshow('show_img', resized_image)\n",
    "cv2.waitKey(0)\n",
    "cv2.destroyAllWindows()"
   ],
   "metadata": {
    "collapsed": false
   }
  },
  {
   "cell_type": "code",
   "execution_count": null,
   "outputs": [],
   "source": [],
   "metadata": {
    "collapsed": false
   }
  }
 ],
 "metadata": {
  "kernelspec": {
   "display_name": "Python 3",
   "language": "python",
   "name": "python3"
  },
  "language_info": {
   "codemirror_mode": {
    "name": "ipython",
    "version": 2
   },
   "file_extension": ".py",
   "mimetype": "text/x-python",
   "name": "python",
   "nbconvert_exporter": "python",
   "pygments_lexer": "ipython2",
   "version": "2.7.6"
  }
 },
 "nbformat": 4,
 "nbformat_minor": 0
}
